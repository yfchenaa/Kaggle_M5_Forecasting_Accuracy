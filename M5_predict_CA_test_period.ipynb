{
 "cells": [
  {
   "cell_type": "code",
   "execution_count": 1,
   "metadata": {},
   "outputs": [],
   "source": [
    "import numpy as np\n",
    "from datetime import datetime, timedelta\n",
    "import pandas as pd\n",
    "import lightgbm as lgb\n",
    "from derive_functions.derive_date_var import derive_calender_feats\n",
    "from derive_functions.data_prepare_func import create_dt,reduce_mem_usage\n",
    "from derive_functions.derive_lag_mean_feats import create_lag_feats,create_lag_mean_feats\n",
    "from derive_functions.derive_mean_feats_cat import get_df_cat\n",
    "from derive_functions.derive_mean_feats_dept import get_df_dept\n",
    "from derive_functions.derive_mean_feats_id import get_df_id\n",
    "from derive_functions.derive_mean_feats_item import get_df_item\n",
    "from derive_functions.derive_mean_feats_state import get_df_state\n",
    "from derive_functions.derive_mean_feats_store import get_df_store\n",
    "from derive_functions.derive_deviation_feats import get_deviation_feats\n",
    "import gc"
   ]
  },
  {
   "cell_type": "markdown",
   "metadata": {},
   "source": [
    "# 1. load data"
   ]
  },
  {
   "cell_type": "code",
   "execution_count": 2,
   "metadata": {},
   "outputs": [
    {
     "data": {
      "text/plain": [
       "0"
      ]
     },
     "execution_count": 2,
     "metadata": {},
     "output_type": "execute_result"
    }
   ],
   "source": [
    "# 数据加载\n",
    "data = pd.read_pickle('data/processed_data/df_test_var_all_0626.pkl')\n",
    "# data_train = data.copy(deep=True).reset_index(drop=True)\n",
    "# data_train = data[data.date<='2016-04-24'].copy(deep=True).reset_index(drop=True)\n",
    "data_test = data[(data.date>='2015-12-22') & (data.state_id=='CA')].copy(deep=True).reset_index(drop=True)\n",
    "del data\n",
    "gc.collect()"
   ]
  },
  {
   "cell_type": "code",
   "execution_count": 3,
   "metadata": {},
   "outputs": [],
   "source": [
    "recursive_feats=[]\n",
    "for i in data_test.columns:\n",
    "    if ('lag_7' in i) or ('shift7' in i):\n",
    "        recursive_feats.append(i)\n",
    "data_test = data_test.sort_values(by=['id','date'],ascending=[True,True]).reset_index(drop=True)"
   ]
  },
  {
   "cell_type": "code",
   "execution_count": 4,
   "metadata": {},
   "outputs": [],
   "source": [
    "useless_feats = ['d','date','wm_yr_wk','sales','weekday','revenue','id','state_id']\n",
    "cat_feats = ['item_id', 'dept_id','cat_id','store_id'] + [\"wday\",\"event_name_1\", \"event_name_2\", \"event_type_1\", \"event_type_2\"]\n",
    "train_cols = data_test.columns[~data_test.columns.isin(useless_feats)]"
   ]
  },
  {
   "cell_type": "markdown",
   "metadata": {},
   "source": [
    "# 2. load model and predict sales for the test period"
   ]
  },
  {
   "cell_type": "code",
   "execution_count": null,
   "metadata": {},
   "outputs": [],
   "source": [
    "# 模型加载\n",
    "m_lgb_v8 = lgb.Booster(model_file='model/time_split/model_tweedie_CA_var_all_v8.pkl')\n",
    "\n",
    "\n",
    "fday = datetime(2016,5,23) \n",
    "alphas = [1,1.023, 1.028,1.018]\n",
    "# v1,v2,v3,v4\n",
    "for i in range(len(alphas)):\n",
    "    print(alphas[i])\n",
    "    df_test = data_test.copy(deep=True)\n",
    "    for tdelta in range(0,28):\n",
    "        day = fday + timedelta(days=tdelta)\n",
    "        print(day)\n",
    "        print(datetime.now())\n",
    "        df_test.loc[df_test.date==day,'sales'] = alphas[i] * m_lgb_v8.predict(df_test.loc[df_test.date == day, train_cols])\n",
    "        df_test['revenue'] = df_test['sales'] * df_test['sell_price']\n",
    "        df_test = df_test.sort_values(by=['id','date'],ascending=[True,True]).reset_index(drop=True)\n",
    "        df_test = create_lag_feats(df_test, recursive=True)\n",
    "        df_test = create_lag_mean_feats(df_test, recursive=True)\n",
    "    cols = [f\"F{i}\" for i in range(1, 29)]\n",
    "    te_sub = df_test.loc[df_test.date >= fday, [\"id\", \"sales\"]].copy()\n",
    "    te_sub[\"F\"] = [f\"F{rank}\" for rank in te_sub.groupby(\"id\")[\n",
    "        \"id\"].cumcount()+1]\n",
    "    te_sub = te_sub.set_index([\"id\", \"F\"]).unstack()[\n",
    "        \"sales\"][cols].reset_index()\n",
    "    te_sub.fillna(0., inplace=True)\n",
    "    te_sub.sort_values(\"id\", inplace=True)\n",
    "    te_sub.reset_index(drop=True, inplace=True)\n",
    "    sub2 = te_sub.copy()\n",
    "    sub2[\"id\"] = sub2[\"id\"].str.replace(\"evaluation$\", \"validation\")\n",
    "    sub_all = pd.concat([te_sub, sub2], axis=0, sort=False)  \n",
    "    sub_all.to_csv(\"result/test/CA_v8_submission_v\"+str(i+1)+\".csv\",index=False)"
   ]
  }
 ],
 "metadata": {
  "kernelspec": {
   "display_name": "Python 3",
   "language": "python",
   "name": "python3"
  },
  "language_info": {
   "codemirror_mode": {
    "name": "ipython",
    "version": 3
   },
   "file_extension": ".py",
   "mimetype": "text/x-python",
   "name": "python",
   "nbconvert_exporter": "python",
   "pygments_lexer": "ipython3",
   "version": "3.7.3"
  }
 },
 "nbformat": 4,
 "nbformat_minor": 4
}
