{
 "cells": [
  {
   "cell_type": "code",
   "execution_count": 1,
   "metadata": {},
   "outputs": [],
   "source": [
    "import pandas as pd\n",
    "import numpy as np"
   ]
  },
  {
   "cell_type": "code",
   "execution_count": 4,
   "metadata": {},
   "outputs": [],
   "source": [
    "cols = [f\"F{i}\" for i in range(1, 29)]"
   ]
  },
  {
   "cell_type": "code",
   "execution_count": 11,
   "metadata": {},
   "outputs": [],
   "source": [
    "sample_sub = pd.read_csv('data/raw_data/sample_submission.csv')"
   ]
  },
  {
   "cell_type": "code",
   "execution_count": null,
   "metadata": {},
   "outputs": [],
   "source": [
    "# for j in range(1,4):\n",
    "#     print(j)\n",
    "#     for i in range(1,5):\n",
    "#         print(i)\n",
    "j=8\n",
    "for i in range(1,4):\n",
    "\n",
    "    ca_path = 'result/test/CA_v'+str(j)+'_submission_v'+str(i)+'.csv'\n",
    "    wi_path = 'result/test/WI_v'+str(j)+'_submission_v'+str(i)+'.csv'\n",
    "    tx_path = 'result/test/TX_v'+str(j-2)+'_submission_v'+str(i)+'.csv'\n",
    "    sub_ca = pd.read_csv(ca_path)\n",
    "    sub_wi = pd.read_csv(wi_path)\n",
    "    sub_tx = pd.read_csv(tx_path)\n",
    "    sub_all = sub_ca.append(sub_wi)\n",
    "    sub_all = sub_all.append(sub_tx)\n",
    "    sub_all = pd.merge(sample_sub[['id']],sub_all,on='id',how='left')\n",
    "    sub_all.to_csv('result/test/final_sub/model_v'+str(j)+'_v'+str(i)+'.csv',index=False)"
   ]
  },
  {
   "cell_type": "code",
   "execution_count": 69,
   "metadata": {},
   "outputs": [],
   "source": [
    "data_1 = pd.read_csv('result/test/final_sub/model_v7_v1.csv')\n",
    "data_2 = pd.read_csv('result/test/final_sub/model_v7_v2.csv')\n",
    "data_3 = pd.read_csv('result/test/final_sub/model_v7_v3.csv')\n",
    "data_4 = pd.read_csv('result/test/final_sub/model_v8_v1.csv')\n",
    "data_5 = pd.read_csv('result/test/final_sub/model_v8_v2.csv')\n",
    "data_6 = pd.read_csv('result/test/final_sub/model_v8_v3.csv')"
   ]
  },
  {
   "cell_type": "code",
   "execution_count": 70,
   "metadata": {},
   "outputs": [],
   "source": [
    "day_cols = ['F1', 'F2', 'F3', 'F4', 'F5', 'F6', 'F7', 'F8', 'F9', 'F10',\n",
    "       'F11', 'F12', 'F13', 'F14', 'F15', 'F16', 'F17', 'F18', 'F19', 'F20',\n",
    "       'F21', 'F22', 'F23', 'F24', 'F25', 'F26', 'F27', 'F28']"
   ]
  },
  {
   "cell_type": "code",
   "execution_count": 71,
   "metadata": {},
   "outputs": [],
   "source": [
    "data_final = pd.DataFrame()\n",
    "data_final['id'] = data_1['id']\n",
    "for i in day_cols:\n",
    "    data_final[i] = 1/6*(data_1[i]+data_2[i]+data_3[i]+data_4[i]+data_5[i]+data_6[i])"
   ]
  },
  {
   "cell_type": "code",
   "execution_count": 72,
   "metadata": {},
   "outputs": [],
   "source": [
    "data_final.to_csv('result/test/final_sub/model_v7_v8_ensemble.csv',index=False)"
   ]
  },
  {
   "cell_type": "code",
   "execution_count": null,
   "metadata": {},
   "outputs": [],
   "source": []
  },
  {
   "cell_type": "code",
   "execution_count": null,
   "metadata": {},
   "outputs": [],
   "source": []
  }
 ],
 "metadata": {
  "kernelspec": {
   "display_name": "Python 3",
   "language": "python",
   "name": "python3"
  },
  "language_info": {
   "codemirror_mode": {
    "name": "ipython",
    "version": 3
   },
   "file_extension": ".py",
   "mimetype": "text/x-python",
   "name": "python",
   "nbconvert_exporter": "python",
   "pygments_lexer": "ipython3",
   "version": "3.7.6"
  }
 },
 "nbformat": 4,
 "nbformat_minor": 4
}
